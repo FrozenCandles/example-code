{
 "cells": [
  {
   "cell_type": "markdown",
   "metadata": {},
   "source": [
    "# 高级数据类型"
   ]
  },
  {
   "cell_type": "code",
   "execution_count": 1,
   "metadata": {},
   "outputs": [],
   "source": [
    "import numpy as np"
   ]
  },
  {
   "cell_type": "markdown",
   "metadata": {},
   "source": [
    "## 结构化数组"
   ]
  },
  {
   "cell_type": "code",
   "execution_count": 2,
   "metadata": {},
   "outputs": [
    {
     "data": {
      "text/plain": [
       "array([0.+0.j, 0.+0.j, 0.+0.j, 0.+0.j])"
      ]
     },
     "execution_count": 2,
     "metadata": {},
     "output_type": "execute_result"
    }
   ],
   "source": [
    "np.zeros(4, dtype=np.complex128)"
   ]
  },
  {
   "cell_type": "code",
   "execution_count": 3,
   "metadata": {},
   "outputs": [
    {
     "data": {
      "text/plain": [
       "dtype([('name', '<U16'), ('age', '<i2'), ('score', '<f8')])"
      ]
     },
     "execution_count": 3,
     "metadata": {},
     "output_type": "execute_result"
    }
   ],
   "source": [
    "students = np.empty(3, dtype=[\n",
    "    ('name', np.unicode_, 16), \n",
    "    ('age', np.int16),\n",
    "    ('score', np.float_)\n",
    "])\n",
    "students.dtype"
   ]
  },
  {
   "cell_type": "code",
   "execution_count": 4,
   "metadata": {},
   "outputs": [],
   "source": [
    "students = np.zeros(3, dtype={\n",
    "    'names': ('name', 'age', 'score'),\n",
    "    'formats': ('<U16', '<i2', '<f8')\n",
    "})"
   ]
  },
  {
   "cell_type": "code",
   "execution_count": 5,
   "metadata": {},
   "outputs": [
    {
     "data": {
      "text/plain": [
       "dtype([('f0', 'S16'), ('f1', '<i2'), ('f2', '<f8')])"
      ]
     },
     "execution_count": 5,
     "metadata": {},
     "output_type": "execute_result"
    }
   ],
   "source": [
    "np.dtype('S16,i2,f8')"
   ]
  },
  {
   "cell_type": "code",
   "execution_count": 6,
   "metadata": {},
   "outputs": [
    {
     "data": {
      "text/plain": [
       "array([('Alice', 25, 75. ), ('Tim', 19, 61.3), ('Duff', 31, 57.9)],\n",
       "      dtype=[('name', '<U16'), ('age', '<i2'), ('score', '<f8')])"
      ]
     },
     "execution_count": 6,
     "metadata": {},
     "output_type": "execute_result"
    }
   ],
   "source": [
    "students['name'] = ['Alice', 'Tim', 'Duff']\n",
    "students['age'] = [25, 19, 31]\n",
    "students['score'] = [75.0, 61.3, 57.9]\n",
    "students"
   ]
  },
  {
   "cell_type": "code",
   "execution_count": 7,
   "metadata": {},
   "outputs": [
    {
     "data": {
      "text/plain": [
       "array(['Alice', 'Tim', 'Duff'], dtype='<U16')"
      ]
     },
     "execution_count": 7,
     "metadata": {},
     "output_type": "execute_result"
    }
   ],
   "source": [
    "students['name']  # name field"
   ]
  },
  {
   "cell_type": "code",
   "execution_count": 8,
   "metadata": {},
   "outputs": [
    {
     "data": {
      "text/plain": [
       "('Alice', 25, 75.)"
      ]
     },
     "execution_count": 8,
     "metadata": {},
     "output_type": "execute_result"
    }
   ],
   "source": [
    "students[0]  # first struct"
   ]
  },
  {
   "cell_type": "code",
   "execution_count": 9,
   "metadata": {},
   "outputs": [
    {
     "data": {
      "text/plain": [
       "'Duff'"
      ]
     },
     "execution_count": 9,
     "metadata": {},
     "output_type": "execute_result"
    }
   ],
   "source": [
    "students[-1]['name']"
   ]
  },
  {
   "cell_type": "code",
   "execution_count": 10,
   "metadata": {},
   "outputs": [
    {
     "data": {
      "text/plain": [
       "array(['Alice', 'Tim'], dtype='<U16')"
      ]
     },
     "execution_count": 10,
     "metadata": {},
     "output_type": "execute_result"
    }
   ],
   "source": [
    "students[students['score'] > 60]['name']"
   ]
  },
  {
   "cell_type": "code",
   "execution_count": 11,
   "metadata": {},
   "outputs": [],
   "source": [
    "im3_3 = np.dtype(\n",
    "    [('id', 'i8'), ('matrix', 'f8', (3, 3))]\n",
    ")"
   ]
  },
  {
   "cell_type": "code",
   "execution_count": 12,
   "metadata": {},
   "outputs": [
    {
     "data": {
      "text/plain": [
       "(0, [[0., 0., 0.], [0., 0., 0.], [0., 0., 0.]])"
      ]
     },
     "execution_count": 12,
     "metadata": {},
     "output_type": "execute_result"
    }
   ],
   "source": [
    "c1 = np.zeros(5, dtype=im3_3)\n",
    "c1[0]"
   ]
  },
  {
   "cell_type": "code",
   "execution_count": 13,
   "metadata": {},
   "outputs": [],
   "source": [
    "student = np.dtype([\n",
    "    ('name', np.unicode_, 16), \n",
    "    ('age', np.int16),\n",
    "    ('score', np.float_)\n",
    "])"
   ]
  },
  {
   "cell_type": "code",
   "execution_count": 14,
   "metadata": {},
   "outputs": [],
   "source": [
    "classroom = np.dtype([\n",
    "    ('teacher', np.dtype([\n",
    "        ('name', np.unicode_, 16),\n",
    "        ('age', np.int16)\n",
    "    ])),\n",
    "    ('students', student, 3)\n",
    "])"
   ]
  },
  {
   "cell_type": "code",
   "execution_count": 15,
   "metadata": {},
   "outputs": [
    {
     "data": {
      "text/plain": [
       "(('Mr.C', 32), [('Alice', 25, 75. ), ('Tim', 19, 61.3), ('Duff', 31, 57.9)])"
      ]
     },
     "execution_count": 15,
     "metadata": {},
     "output_type": "execute_result"
    }
   ],
   "source": [
    "grade_7 = np.empty(8, dtype=classroom)\n",
    "grade_7[0]['teacher']['name'] = 'Mr.C'\n",
    "grade_7[0]['teacher']['age'] = 32\n",
    "grade_7[0]['students']['name'] = ['Alice', 'Tim', 'Duff']\n",
    "grade_7[0]['students']['age'] = [25, 19, 31]\n",
    "grade_7[0]['students']['score'] = [75.0, 61.3, 57.9]\n",
    "grade_7[0]"
   ]
  },
  {
   "cell_type": "code",
   "execution_count": 16,
   "metadata": {},
   "outputs": [
    {
     "data": {
      "text/plain": [
       "'Tim'"
      ]
     },
     "execution_count": 16,
     "metadata": {},
     "output_type": "execute_result"
    }
   ],
   "source": [
    "graderec_7 = grade_7.view(np.recarray)\n",
    "graderec_7[0].students[1].name"
   ]
  },
  {
   "cell_type": "markdown",
   "metadata": {},
   "source": [
    "## I/O"
   ]
  },
  {
   "cell_type": "code",
   "execution_count": 17,
   "metadata": {},
   "outputs": [],
   "source": [
    "np.save('grade7', grade_7)"
   ]
  },
  {
   "cell_type": "code",
   "execution_count": 18,
   "metadata": {},
   "outputs": [
    {
     "data": {
      "text/plain": [
       "array([(('Mr.C', 32), [('Alice', 25, 75. ), ('Tim', 19, 61.3), ('Duff', 31, 57.9)]),\n",
       "       (('',  0), [('',  0,  0. ), ('',  0,  0. ), ('',  0,  0. )]),\n",
       "       (('',  0), [('',  0,  0. ), ('',  0,  0. ), ('',  0,  0. )]),\n",
       "       (('',  0), [('',  0,  0. ), ('',  0,  0. ), ('',  0,  0. )]),\n",
       "       (('',  0), [('',  0,  0. ), ('',  0,  0. ), ('',  0,  0. )]),\n",
       "       (('',  0), [('',  0,  0. ), ('',  0,  0. ), ('',  0,  0. )]),\n",
       "       (('',  0), [('',  0,  0. ), ('',  0,  0. ), ('',  0,  0. )]),\n",
       "       (('',  0), [('',  0,  0. ), ('',  0,  0. ), ('',  0,  0. )])],\n",
       "      dtype=[('teacher', [('name', '<U16'), ('age', '<i2')]), ('students', [('name', '<U16'), ('age', '<i2'), ('score', '<f8')], (3,))])"
      ]
     },
     "execution_count": 18,
     "metadata": {},
     "output_type": "execute_result"
    }
   ],
   "source": [
    "np.load('./grade7.npy')"
   ]
  }
 ],
 "metadata": {
  "kernelspec": {
   "display_name": "Python 3.9.1 ('sci')",
   "language": "python",
   "name": "python3"
  },
  "language_info": {
   "codemirror_mode": {
    "name": "ipython",
    "version": 3
   },
   "file_extension": ".py",
   "mimetype": "text/x-python",
   "name": "python",
   "nbconvert_exporter": "python",
   "pygments_lexer": "ipython3",
   "version": "3.9.1"
  },
  "orig_nbformat": 4,
  "vscode": {
   "interpreter": {
    "hash": "b94eb173ffe6b2e463767bfc06ff829c24ae29c2cf430277d9c9ec630e342520"
   }
  }
 },
 "nbformat": 4,
 "nbformat_minor": 2
}
